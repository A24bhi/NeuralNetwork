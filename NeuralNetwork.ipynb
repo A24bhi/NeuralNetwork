{
  "nbformat": 4,
  "nbformat_minor": 0,
  "metadata": {
    "colab": {
      "provenance": [],
      "authorship_tag": "ABX9TyPZz9q+OjeR2WfBziNnSk6G",
      "include_colab_link": true
    },
    "kernelspec": {
      "name": "python3",
      "display_name": "Python 3"
    },
    "language_info": {
      "name": "python"
    }
  },
  "cells": [
    {
      "cell_type": "markdown",
      "metadata": {
        "id": "view-in-github",
        "colab_type": "text"
      },
      "source": [
        "<a href=\"https://colab.research.google.com/github/A24bhi/NeuralNetwork/blob/main/NeuralNetwork.ipynb\" target=\"_parent\"><img src=\"https://colab.research.google.com/assets/colab-badge.svg\" alt=\"Open In Colab\"/></a>"
      ]
    },
    {
      "cell_type": "code",
      "execution_count": 16,
      "metadata": {
        "id": "Ac9rz3oP5X96"
      },
      "outputs": [],
      "source": [
        "from os import wait4\n",
        "import numpy as np\n",
        "\n",
        "# Features\n",
        "\n",
        "X = np.array([7,2,25])\n",
        "actual = 90\n",
        "\n",
        "# Weights I took Randomly\n",
        "\n",
        "W1,W2 = 0.1,0.16\n",
        "W3,W4 = 0.1,0.5\n",
        "W5,W6 = 0.1,0.6\n",
        "W7,W8 = 7,3\n",
        "b1,b2 = -4,4\n",
        "b3 = 12\n",
        "\n",
        "#Activation Function - Sigmoid\n",
        "\n",
        "def sigmoid(x):\n",
        "  return 1 / (1 + np.exp(-x))\n",
        "\n",
        "def forward_propagation(X):\n",
        "  #Summation\n",
        "  Z1 = W1 * X[0] + W3 * X[1] + W5 * X[2] + b1\n",
        "  Z2 = W2 * X[0] + W4 * X[1] + W6 * X[2] + b2\n",
        "\n",
        "  #Activation Function\n",
        "\n",
        "  G1 = sigmoid(Z1)\n",
        "  G2 = sigmoid(Z2)\n",
        "\n",
        "  y_pred = W7 * G1 + W8 * G2 +b3\n",
        "  return G1,G2,y_pred\n",
        "\n",
        "\n"
      ]
    },
    {
      "cell_type": "code",
      "source": [
        "G1, G2, y_pred = forward_propagation(X)"
      ],
      "metadata": {
        "id": "Q5dXsapk6HA7"
      },
      "execution_count": 9,
      "outputs": []
    },
    {
      "cell_type": "code",
      "source": [
        "print(\"First Layer\")\n",
        "print(f\"Z1 = {W1}*{X[0]} + {W3}*{X[1]} + {W5}*{X[2]} + {b1}\")\n",
        "print(f\"Z1 = {W1 * X[0] + W3 * X[1] + W5 * X[2] + b1}\")\n",
        "print(f\"G1 : {G1}\")\n",
        "print(\"===\"*20)\n",
        "print(f\"Z2 = {W2}*{X[0]} + {W4}*{X[1]} + {W6}*{X[2]} + {b2}\")\n",
        "print(f\"Z2 = {W2 * X[0] + W4 * X[1] + W6 * X[2] + b2}\")\n",
        "print(f\"G2 : {G2}\")\n",
        "print(\"===\"*20)\n",
        "print(\"Final Layer\")\n",
        "print(f\"y_pred : {W7} * G1 + {W8} * G2 + {b3}\")\n",
        "print(f\"y_pred : {W7} * {G1} + {W8} * {G2} + {b3}\")\n",
        "print(f\"y_pred : {y_pred}\")\n",
        "\n",
        "print(\"===\"*20)\n",
        "diff = actual - y_pred\n",
        "print(f\"Actual value : {actual}\")\n",
        "print(f\"Predicted Value : {y_pred}\")\n",
        "print(f\"Cost : {diff}\")\n",
        "\n",
        "\n"
      ],
      "metadata": {
        "colab": {
          "base_uri": "https://localhost:8080/"
        },
        "id": "Fj4qji2G8e1X",
        "outputId": "0f3fcce2-bf20-4e8a-95d4-77b5b79496c6"
      },
      "execution_count": 14,
      "outputs": [
        {
          "output_type": "stream",
          "name": "stdout",
          "text": [
            "First Layer\n",
            "Z1 = 0.1*7 + 0.1*2 + 0.1*25 + -4\n",
            "Z1 = -0.5999999999999996\n",
            "G1 : 0.35434369377420466\n",
            "============================================================\n",
            "Z2 = 0.16*7 + 0.5*2 + 0.6*25 + 4\n",
            "Z2 = 21.12\n",
            "G2 : 0.9999999993274873\n",
            "============================================================\n",
            "Final Layer\n",
            "y_pred : 7 * G1 + 3 * G2 + 12\n",
            "y_pred : 7 * 0.35434369377420466 + 3 * 0.9999999993274873 + 12\n",
            "y_pred : 17.480405854401894\n",
            "============================================================\n",
            "Actual value : 90\n",
            "Predicted Value : 17.480405854401894\n",
            "Cost : 72.5195941455981\n"
          ]
        }
      ]
    },
    {
      "cell_type": "code",
      "source": [
        "import numpy as np\n",
        "#features\n",
        "X = np.array([7,2,25])\n",
        "actual = 90\n",
        "\n",
        "#this is assigned randonmly but i have written in manually\n",
        "W1, W2 = 0.1,0.16\n",
        "W3, W4 = 0.1,0.5\n",
        "W5, W6 = 0.1, 0.6\n",
        "W7, W8 = 7, 3\n",
        "b1, b2 = -4, -4\n",
        "b3 = 12\n",
        "\n",
        "eta = 0.01 #most used learning rate\n",
        "\n",
        "def sigmoid(x):\n",
        "    return 1 / (1 + np.exp(-x))\n",
        "\n",
        "def sigmoid_derivative(x):\n",
        "    return x * (1 - x)\n",
        "\n",
        "def forward_propogation(X):\n",
        "    #Summation\n",
        "    Z1 = W1 * X[0] + W3 * X[1] + W5 * X[2] + b1\n",
        "    Z2 = W2 * X[0] + W4 * X[1] + W6 * X[2] + b2\n",
        "\n",
        "    #second step = using activation function\n",
        "    G1 = sigmoid(Z1)\n",
        "    G2 = sigmoid(Z2)\n",
        "\n",
        "    y_pred = W7 * G1 + W8 * G2 + b3\n",
        "\n",
        "    return Z1, Z2, G1, G2, y_pred\n",
        "\n",
        "def backward_propogation(X, y, Z1, Z2, G1, G2, y_pred):\n",
        "    dC_dy_pred = 2 * (y_pred - y)   #y here represents y_act\n",
        "\n",
        "    dC_dW7 = dC_dy_pred * G1\n",
        "    dC_dW8 = dC_dy_pred * G2\n",
        "    dC_db3 = dC_dy_pred\n",
        "\n",
        "    dC_dG1 = dC_dy_pred * W7\n",
        "    dC_dG2 = dC_dy_pred * W8\n",
        "\n",
        "    dC_Z1 = dC_dG1 * sigmoid_derivative(G1)\n",
        "    dC_Z2 = dC_dG2 * sigmoid_derivative(G2)\n",
        "\n",
        "    dC_dW1 = dC_Z1 * X[0]\n",
        "    dC_dW2 = dC_Z2 * X[0]\n",
        "    dC_dW3 = dC_Z1 * X[1]\n",
        "    dC_dW4 = dC_Z2 * X[1]\n",
        "    dC_dW5 = dC_Z1 * X[2]\n",
        "    dC_dW6 = dC_Z2 * X[2]\n",
        "    dC_db1 = dC_Z1\n",
        "    dC_db2 = dC_Z2\n",
        "\n",
        "    return dC_dW1, dC_dW2, dC_dW3, dC_dW4, dC_dW5, dC_dW6, dC_dW7, dC_dW8, dC_db1, dC_db2, dC_db3"
      ],
      "metadata": {
        "id": "MHGRHBEK8iMr"
      },
      "execution_count": 22,
      "outputs": []
    },
    {
      "cell_type": "code",
      "source": [
        "Z1, Z2, G1, G2, y_pred = forward_propogation(X)"
      ],
      "metadata": {
        "id": "fBKyj-Zn9o-I"
      },
      "execution_count": 23,
      "outputs": []
    },
    {
      "cell_type": "code",
      "source": [
        "print(\"Forward propogation\")\n",
        "print(f\"Z1 = {Z1}, || G1 = {G1}\")\n",
        "print(f\"Z2 = {Z2}, || G2 = {G2}\")\n",
        "print(f\"y_pred = {y_pred}\")\n",
        "\n",
        "#Calculate the cost\n",
        "cost = (y_pred - actual) ** 2\n",
        "print(f\"\\n Cost : {cost}\")\n",
        "\n",
        "\n",
        "gradients = backward_propogation(X, actual, Z1, Z2, G1, G2, y_pred)"
      ],
      "metadata": {
        "colab": {
          "base_uri": "https://localhost:8080/"
        },
        "id": "qGNR1ZvQ88iP",
        "outputId": "d666d55a-b069-4d1c-aaaa-78bb331fea35"
      },
      "execution_count": 24,
      "outputs": [
        {
          "output_type": "stream",
          "name": "stdout",
          "text": [
            "Forward propogation\n",
            "Z1 = -0.5999999999999996, || G1 = 0.35434369377420466\n",
            "Z2 = 13.120000000000001, || G2 = 0.9999979952716741\n",
            "y_pred = 17.480399842234455\n",
            "\n",
            " Cost : 5259.09240704219\n"
          ]
        }
      ]
    },
    {
      "cell_type": "code",
      "source": [
        "print(\"\\nBackward Propogation - > gradients i have calculated\")\n",
        "print(f\"dC/dW1: {gradients[0]}\")\n",
        "print(f\"dC/dW2: {gradients[1]}\")\n",
        "print(f\"dC/dW3: {gradients[2]}\")\n",
        "print(f\"dC/dW4: {gradients[3]}\")\n",
        "print(f\"dC/dW5: {gradients[4]}\")\n",
        "print(f\"dC/dW6: {gradients[5]}\")\n",
        "print(f\"dC/dW7: {gradients[6]}\")\n",
        "print(f\"dC/dW8: {gradients[7]}\")\n",
        "print(f\"dC/db1: {gradients[8]}\")\n",
        "print(f\"dC/db2: {gradients[9]}\")\n",
        "print(f\"dC/db3: {gradients[10]}\")"
      ],
      "metadata": {
        "colab": {
          "base_uri": "https://localhost:8080/"
        },
        "id": "aeNZJnTN9G1s",
        "outputId": "634ecc7e-ee30-439d-e93b-024e5df94dde"
      },
      "execution_count": 25,
      "outputs": [
        {
          "output_type": "stream",
          "name": "stdout",
          "text": [
            "\n",
            "Backward Propogation - > gradients i have calculated\n",
            "dC/dW1: -1625.9514807508583\n",
            "dC/dW2: -0.0061060358170379496\n",
            "dC/dW3: -464.55756592881664\n",
            "dC/dW4: -0.0017445816620108427\n",
            "dC/dW5: -5806.969574110208\n",
            "dC/dW6: -0.021807270775135532\n",
            "dC/dW7: -51.39372598186208\n",
            "dC/dW8: -145.03890955133787\n",
            "dC/db1: -232.27878296440832\n",
            "dC/db2: -0.0008722908310054213\n",
            "dC/db3: -145.0392003155311\n"
          ]
        }
      ]
    },
    {
      "cell_type": "code",
      "source": [
        "print(f\"Updating weights and biases\")\n",
        "W1 = W1 - eta * gradients[0]\n",
        "W2 = W2 - eta * gradients[1]\n",
        "W3 = W3 - eta * gradients[2]\n",
        "W4 = W4 - eta * gradients[3]\n",
        "W5 = W5 - eta * gradients[4]\n",
        "W6 = W6 - eta * gradients[5]\n",
        "W7 = W7 - eta * gradients[6]\n",
        "W8 = W8 - eta * gradients[7]\n",
        "b1 = b1 - eta * gradients[8]\n",
        "b2 = b2 - eta * gradients[9]\n",
        "b3 = b3 - eta * gradients[10]"
      ],
      "metadata": {
        "colab": {
          "base_uri": "https://localhost:8080/"
        },
        "id": "g7Dn1S72-TiV",
        "outputId": "48355fdb-8088-4417-ccb2-b3c76e06110d"
      },
      "execution_count": 26,
      "outputs": [
        {
          "output_type": "stream",
          "name": "stdout",
          "text": [
            "Updating weights and biases\n"
          ]
        }
      ]
    },
    {
      "cell_type": "code",
      "source": [
        "print(f\"Updated W1 : {W1}\")\n",
        "print(f\"Updated W2 : {W2}\")\n",
        "print(f\"Updated W3 : {W3}\")\n",
        "print(f\"Updated W4 : {W4}\")\n",
        "print(f\"Updated W5 : {W5}\")\n",
        "print(f\"Updated W6 : {W6}\")\n",
        "print(f\"Updated W7 : {W7}\")\n",
        "print(f\"Updated W8 : {W8}\")\n",
        "print(f\"Updated b1 : {b1}\")\n",
        "print(f\"Updated b2 : {b2}\")\n",
        "print(f\"Updated b3 : {b3}\")"
      ],
      "metadata": {
        "colab": {
          "base_uri": "https://localhost:8080/"
        },
        "id": "wQiE5h1H-V85",
        "outputId": "ffcf94f0-5558-4b4d-e8c5-ee9f7f18e828"
      },
      "execution_count": 27,
      "outputs": [
        {
          "output_type": "stream",
          "name": "stdout",
          "text": [
            "Updated W1 : 16.359514807508585\n",
            "Updated W2 : 0.1600610603581704\n",
            "Updated W3 : 4.745575659288166\n",
            "Updated W4 : 0.5000174458166201\n",
            "Updated W5 : 58.16969574110208\n",
            "Updated W6 : 0.6002180727077513\n",
            "Updated W7 : 7.513937259818621\n",
            "Updated W8 : 4.450389095513379\n",
            "Updated b1 : -1.6772121703559169\n",
            "Updated b2 : -3.99999127709169\n",
            "Updated b3 : 13.450392003155311\n"
          ]
        }
      ]
    },
    {
      "cell_type": "code",
      "source": [],
      "metadata": {
        "id": "0o7l48bb-X6b"
      },
      "execution_count": null,
      "outputs": []
    }
  ]
}